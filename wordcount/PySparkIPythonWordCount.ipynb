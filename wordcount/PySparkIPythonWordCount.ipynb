{
 "cells": [
  {
   "cell_type": "code",
   "execution_count": 1,
   "metadata": {
    "collapsed": false,
    "scrolled": false
   },
   "outputs": [
    {
     "name": "stdout",
     "output_type": "stream",
     "text": [
      "Execution took 0:21:45.194165\n"
     ]
    }
   ],
   "source": [
    "import datetime\n",
    "import re\n",
    "from pyspark.sql.types import *\n",
    "\n",
    "start = datetime.datetime.now()\n",
    "\n",
    "def get_words(line):\n",
    "    words = re.sub(r'[^a-zA-Z]+', ' ', line).lower().split(' ')\n",
    "    return [word for word in words if len(word) < 50]\n",
    "\n",
    "# Distributed wordcount map/reduce\n",
    "text_file = sc.textFile(\"hdfs://ubuntu0:9000/user/hduser/medium/input\")\n",
    "counts = text_file.flatMap(lambda line: get_words(line)).map(lambda word: (word, 1)).reduceByKey(lambda a, b: a + b).cache()\n",
    "        \n",
    "# Transform result RDD into Spark DataFrame\n",
    "fields = [StructField('word', StringType(), True), StructField('count', IntegerType(), True)]\n",
    "structure = StructType(fields)\n",
    "schemaWordCounts = sqlContext.createDataFrame(counts, structure)\n",
    "schemaWordCounts.registerTempTable(\"wordcounts\")\n",
    "\n",
    "print 'Execution took %s' % (datetime.datetime.now() - start)"
   ]
  },
  {
   "cell_type": "code",
   "execution_count": 4,
   "metadata": {
    "collapsed": false
   },
   "outputs": [
    {
     "name": "stdout",
     "output_type": "stream",
     "text": [
      "Query took 0:00:05.771639\n"
     ]
    },
    {
     "data": {
      "image/png": "[encoded data removed]",
      "text/plain": [
       "<matplotlib.figure.Figure at 0x7fb34249a5d0>"
      ]
     },
     "metadata": {},
     "output_type": "display_data"
    }
   ],
   "source": [
    "import matplotlib.pyplot as plt\n",
    "\n",
    "%matplotlib inline\n",
    "start = datetime.datetime.now()\n",
    "\n",
    "topWords = sqlContext.sql(\"SELECT * FROM wordcounts WHERE length(word) >=3 and count > 100000 order by count DESC LIMIT 30\")\n",
    "pandaData = topWords.toPandas()\n",
    "pandaData.plot(kind='bar', figsize=(15,3))\n",
    "plt.xticks(pandaData.index.values, pandaData['word'].values)\n",
    "    \n",
    "print 'Query took %s' % (datetime.datetime.now() - start)"
   ]
  },
  {
   "cell_type": "code",
   "execution_count": null,
   "metadata": {
    "collapsed": true
   },
   "outputs": [],
   "source": []
  }
 ],
 "metadata": {
  "kernelspec": {
   "display_name": "Python 2",
   "language": "python",
   "name": "python2"
  },
  "language_info": {
   "codemirror_mode": {
    "name": "ipython",
    "version": 2
   },
   "file_extension": ".py",
   "mimetype": "text/x-python",
   "name": "python",
   "nbconvert_exporter": "python",
   "pygments_lexer": "ipython2",
   "version": "2.7.10"
  }
 },
 "nbformat": 4,
 "nbformat_minor": 0
}
